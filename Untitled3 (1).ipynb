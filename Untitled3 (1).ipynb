{
  "nbformat": 4,
  "nbformat_minor": 0,
  "metadata": {
    "colab": {
      "provenance": [],
      "collapsed_sections": [
        "KLJF09eUfRQb",
        "y9Bla3FRwiEh"
      ]
    },
    "kernelspec": {
      "name": "python3",
      "display_name": "Python 3"
    },
    "language_info": {
      "name": "python"
    }
  },
  "cells": [
    {
      "cell_type": "markdown",
      "source": [
        "#1\n",
        "**Caesar Cipher** is a method of encryption where each letter in the plaintext is shifted a certain number of places down or up the alphabet.The Caesar cipher is a type of symmetric key cipher, the same key is used for both encryption and decryption.\n",
        "\n"
      ],
      "metadata": {
        "id": "KLJF09eUfRQb"
      }
    },
    {
      "cell_type": "code",
      "source": [
        "#Encryption\n",
        "\n",
        "def caesar_encrypt(plaintext, shift):\n",
        "    ciphertext = \"\"\n",
        "    for char in plaintext:\n",
        "        if char.isalpha():\n",
        "            if char.isupper():\n",
        "                ciphertext += chr((ord(char) - 65 + shift) % 26 + 65)\n",
        "            else:\n",
        "                ciphertext += chr((ord(char) - 97 + shift) % 26 + 97)\n",
        "        else:\n",
        "            ciphertext += char\n",
        "    return ciphertext\n",
        "\n",
        "#Decryption\n",
        "\n",
        "def caesar_decrypt(ciphertext, shift):\n",
        "    plaintext = \"\"\n",
        "    for char in ciphertext:\n",
        "        if char.isalpha():\n",
        "            if char.isupper():\n",
        "                plaintext += chr((ord(char) - 65 - shift) % 26 + 65)\n",
        "            else:\n",
        "                plaintext += chr((ord(char) - 97 - shift) % 26 + 97)\n",
        "        else:\n",
        "            plaintext += char\n",
        "    return plaintext\n",
        "\n",
        "# Example usage:\n",
        "plaintext = input(\"Enter the plaintext : \")\n",
        "shift = int(input(\"Enter shift position: \"))\n",
        "encrypted_text = caesar_encrypt(plaintext, shift)\n",
        "print(\"Encrypted text:\", encrypted_text)\n",
        "decrypted_text = caesar_decrypt(encrypted_text, shift)\n",
        "print(\"Decrypted text:\", decrypted_text)"
      ],
      "metadata": {
        "colab": {
          "base_uri": "https://localhost:8080/"
        },
        "id": "0vi7vf90hSnd",
        "outputId": "4c92aec8-a676-45c9-e90d-5809bd0ec09f"
      },
      "execution_count": null,
      "outputs": [
        {
          "output_type": "stream",
          "name": "stdout",
          "text": [
            "Enter the plaintext : Nandhini\n",
            "Enter shift position: 3\n",
            "Encrypted text: Qdqgklql\n",
            "Decrypted text: Nandhini\n"
          ]
        }
      ]
    },
    {
      "cell_type": "markdown",
      "source": [
        "**Working**\n",
        "\n",
        "1. **Encryption**\n",
        "\n",
        "   Defines a function \"caesar_encrypt\" with two parameters \"plaintext, shift\", then initializes an empty string \"ciphertext\" which will store the encrypted text. Then it starts iterating over each character in the plaintext. Then check if the character is an alphabet character. It determines whether the character is uppercase or lowercase and applies the shift accordingly using the ASCII values of the characters. Non-alphabet characters are left unchanged. Last, it returns the fully encrypted ciphertext string after the loop has processed all characters in the plaintext."
      ],
      "metadata": {
        "id": "8xQFMzMVnI4E"
      }
    },
    {
      "cell_type": "markdown",
      "source": [
        "2. **Decryption**\n",
        "\n",
        "    Defines a function \"caesar_decrypt\" with two parameters \"ciphertext, shift\" then initializes an empty string \"plaintext\" which will store the decrypted text. Then it starts iterating over each character in the ciphertext. Then check if the character is an alphabet character. It determines whether the character is uppercase or lowercase and applies the same shift value that was used for encryption.Then it returns the fully decrypted plaintext string after the loop has processed all characters in the ciphertext."
      ],
      "metadata": {
        "id": "-xla6Gk4ssev"
      }
    },
    {
      "cell_type": "markdown",
      "source": [
        "#2\n",
        "**Vigenere cipher** is a method of encrypting alphabetic text by using a simple form of polyalphabetic substitution.It uses a keyword to determine the amount of shift for each letter.\n"
      ],
      "metadata": {
        "id": "y9Bla3FRwiEh"
      }
    },
    {
      "cell_type": "code",
      "source": [
        "#Encryption\n",
        "\n",
        "def Vigenere_Encrypt(plaintext, key):\n",
        "    ciphertext = \"\"\n",
        "    key_index = 0\n",
        "\n",
        "    for char in plaintext:\n",
        "        if char.isalpha():\n",
        "            char_num = ord(char.upper()) - ord('A')\n",
        "            key_char_num = ord(key[key_index].upper()) - ord('A')\n",
        "            encrypted_char = chr(((char_num + key_char_num) % 26) + ord('A'))\n",
        "            ciphertext += encrypted_char\n",
        "            key_index = (key_index + 1) % len(key)\n",
        "        else:\n",
        "            ciphertext += char\n",
        "\n",
        "    return ciphertext\n",
        "\n",
        "#Decryption\n",
        "\n",
        "def Vigenere_Decrypt(ciphertext, key):\n",
        "    plaintext = \"\"\n",
        "    key_index = 0\n",
        "\n",
        "    for char in ciphertext:\n",
        "        if char.isalpha():\n",
        "            char_num = ord(char.upper()) - ord('A')\n",
        "            key_char_num = ord(key[key_index].upper()) - ord('A')\n",
        "            decrypted_char = chr(((char_num - key_char_num) % 26) + ord('A'))\n",
        "            plaintext += decrypted_char\n",
        "            key_index = (key_index + 1) % len(key)\n",
        "        else:\n",
        "            plaintext += char\n",
        "\n",
        "    return plaintext\n",
        "\n",
        "# Example usage\n",
        "plaintext = input(\"Enter the plaintext : \")\n",
        "key =  input(\"Enter a key : \")\n",
        "Encrypted_text = Vigenere_Encrypt(plaintext, key)\n",
        "print(\"Encrypted text :\", Encrypted_text)\n",
        "\n",
        "Decrypted_text = Vigenere_Decrypt(encrypted_text, key)\n",
        "print(\"Decrypted text :\", Decrypted_text)\n"
      ],
      "metadata": {
        "colab": {
          "base_uri": "https://localhost:8080/"
        },
        "id": "86OESXyywyQx",
        "outputId": "e8fb0c67-cd46-4413-a690-baf788ae23c5"
      },
      "execution_count": null,
      "outputs": [
        {
          "output_type": "stream",
          "name": "stdout",
          "text": [
            "Enter the plaintext : Nandhini\n",
            "Enter a key : abcdefgh\n",
            "Encrypted text : NBPGLNTP\n",
            "Decrypted text : NANDHINI\n"
          ]
        }
      ]
    },
    {
      "cell_type": "markdown",
      "source": [
        "**Working**\n",
        "\n",
        "1. **Encryption**\n",
        "\n",
        "   * Defines a function \"Vigenere_Encrypt\" with two parameters (plaintext, key).\n",
        "   * Then initializes an empty string \"ciphertext\" which will store the encrypted text.\n",
        "   * \"key_index\" is initialized to keep track of the current position of the key.\n",
        "   *Then it starts iterating over each character in the plaintext.\n",
        "   *Then checks if the character is alphabetic.\n",
        "   *Then it convert character to uppercase and map it to 0-25 range and does same for the corresponding character in the key.\n",
        "   * Then applies the Vigenere cipher\n",
        "formula to encrypt the character.\n",
        " * Append the encrypted character to the ciphertext.\n",
        " * Move to the next character in the key.\n",
        " * Finally, the encrypted text is returned\n",
        "\n",
        "\n",
        "\n",
        "\n"
      ],
      "metadata": {
        "id": "IpMBas4cxegR"
      }
    },
    {
      "cell_type": "markdown",
      "source": [
        "2. **Decryption**\n",
        "\n",
        " * Defines a function \"Vigenere_Decrypt\" with two parameters (ciphertext, key).\n",
        " * Initializes an empty string \"plaintext\" to store the decrypted text.\n",
        " * Then it starts iterating over each character in ciphertext.\n",
        " * Then checks if the character is alphabetic.\n",
        " * Convert character to uppercase and map it to 0-25 range and does same for the corresponding character in the key.\n",
        " * Decrypt the character using the Vigenere cipher formula.\n",
        " * Append the decrypted character to the plaintext.\n",
        " * Move to the next character in the key.\n",
        " * Finally, the decrypted text is returned."
      ],
      "metadata": {
        "id": "nNQ5-XZr1bwF"
      }
    },
    {
      "cell_type": "markdown",
      "source": [
        "#3\n",
        "**RSA (Rivest-Shamir-Adleman)**\n",
        "\n"
      ],
      "metadata": {
        "id": "TkfgmhO65W-c"
      }
    },
    {
      "cell_type": "code",
      "source": [
        "import random\n",
        "\n",
        "def gcd(a, b):\n",
        "    while b != 0:\n",
        "        a, b = b, a % b\n",
        "    return a\n",
        "\n",
        "def mod_inverse(a, m):\n",
        "    m0, x0, x1 = m, 0, 1\n",
        "    while a > 1:\n",
        "        q = a // m\n",
        "        m, a = a % m, m\n",
        "        x0, x1 = x1 - q * x0, x0\n",
        "    return x1 + m0 if x1 < 0 else x1\n",
        "\n",
        "def is_prime(n, k=5):\n",
        "    if n <= 1:\n",
        "        return False\n",
        "    elif n <= 3:\n",
        "        return True\n",
        "    for _ in range(k):\n",
        "        a = random.randint(2, n - 1)\n",
        "        if gcd(n, a) != 1:\n",
        "            return False\n",
        "        if pow(a, n - 1, n) != 1:\n",
        "            return False\n",
        "    return True\n",
        "\n",
        "def generate_keypair(p, q):\n",
        "    if not (is_prime(p) and is_prime(q)):\n",
        "        raise ValueError(\"Both numbers must be prime.\")\n",
        "    n = p * q\n",
        "    phi = (p - 1) * (q - 1)\n",
        "    e = random.randrange(1, phi)\n",
        "    while gcd(e, phi) != 1:\n",
        "        e = random.randrange(1, phi)\n",
        "    d = mod_inverse(e, phi)\n",
        "    return ((e, n), (d, n))\n",
        "\n",
        "def encrypt(public_key, plaintext):\n",
        "    e, n = public_key\n",
        "    ciphertext = [pow(ord(char), e, n) for char in plaintext]\n",
        "    return ciphertext\n",
        "\n",
        "def decrypt(private_key, ciphertext):\n",
        "    d, n = private_key\n",
        "    plaintext = ''.join([chr(pow(char, d, n)) for char in ciphertext])\n",
        "    return plaintext\n",
        "\n",
        "# Example usage:\n",
        "p = int(input(\"Enter the value of p (Prime Number): \"))\n",
        "q = int(input(\"Enter the value of q (Prime Number): \"))\n",
        "public_key, private_key = generate_keypair(p, q)\n",
        "print(\"Public key :\", public_key)\n",
        "print(\"Private key:\", private_key)\n",
        "\n",
        "plaintext = input(\"Enter the plaintext: \")\n",
        "encrypted = encrypt(public_key, plaintext)\n",
        "print(\"Encrypted:\", encrypted)\n",
        "\n",
        "decrypted = decrypt(private_key, encrypted)\n",
        "print(\"Decrypted:\", decrypted)\n"
      ],
      "metadata": {
        "colab": {
          "base_uri": "https://localhost:8080/"
        },
        "id": "7DB6Kj5m5eIc",
        "outputId": "25f3e2e2-b120-4353-f2b0-3379ec40e46c"
      },
      "execution_count": null,
      "outputs": [
        {
          "output_type": "stream",
          "name": "stdout",
          "text": [
            "Enter the value of p (Prime Number): 61\n",
            "Enter the value of q (Prime Number): 53\n",
            "Public key : (1447, 3233)\n",
            "Private key: (1063, 3233)\n",
            "Enter the plaintext: Nandhini\n",
            "Encrypted: [91, 1208, 751, 554, 1222, 3020, 751, 3020]\n",
            "Decrypted: Nandhini\n"
          ]
        }
      ]
    },
    {
      "cell_type": "markdown",
      "source": [
        "**Working**\n",
        "\n",
        "* import random module, which provide functions for generating random numbers.\n",
        "* Then it calculates the Greatest Common Divisor(GCD) of 'a' and 'b'.\n",
        "* Then calculates the modular multiplicative inverse of 'a' modulo 'm'.\n",
        "* Then checks whether a number is prime. It uses the probabilistic Miller-Rabin primality test with a parameter k for accuracy.\n",
        "* Then it generates an RSA key pair given two prime numbers p and q. It calculates the public key (e, n) and private key (d, n).\n",
        "* Then encrypts a plaintext message using the RSA public key (e, n) and decrypts a ciphertext message using the RSA private key (d, n).\n"
      ],
      "metadata": {
        "id": "GmhRM5pkM0JW"
      }
    },
    {
      "cell_type": "markdown",
      "source": [
        "#4\n",
        "**Hash**\n",
        "\n",
        "SHA-256(Secure Hash Algorithm 256-bit)It is one of the cryptographic hash functions in the SHA-2 (Secure Hash Algorithm 2) family standardized by the National Institute of Standards and Technology (NIST). It generates a fixed-size 256-bit (32-byte) hash value from an input data of arbitrary size.\n"
      ],
      "metadata": {
        "id": "9VKb2qpWPm4h"
      }
    },
    {
      "cell_type": "code",
      "source": [
        "import hashlib\n",
        "\n",
        "def compute_hash(input_string):\n",
        "  input_bytes=input_string.encode('utf-8')\n",
        "  hash_result=hashlib.sha256(input_bytes).hexdigest()\n",
        "\n",
        "  return hash_result\n",
        "\n",
        "input_string=input(\"Enter the string : \")\n",
        "hash_result=compute_hash(input_string)\n",
        "print(\"Hash of'{}'is:  {}\".format(input_string, hash_result))"
      ],
      "metadata": {
        "colab": {
          "base_uri": "https://localhost:8080/"
        },
        "id": "LIvrQRHZVwLc",
        "outputId": "d2a990c5-1cc4-41a6-bf4f-b8ad22d04767"
      },
      "execution_count": null,
      "outputs": [
        {
          "output_type": "stream",
          "name": "stdout",
          "text": [
            "Enter the string : Nandhini\n",
            "Hash of'Nandhini'is:  5f33435da9eca5f8da06c8aef81a6bd4044df354cbc8ec4fc0ade40e408c32c3\n"
          ]
        }
      ]
    },
    {
      "cell_type": "code",
      "source": [],
      "metadata": {
        "id": "wnFfgsgPevSl"
      },
      "execution_count": null,
      "outputs": []
    }
  ]
}